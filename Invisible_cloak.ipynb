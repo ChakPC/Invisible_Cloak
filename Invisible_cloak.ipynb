{
 "cells": [
  {
   "cell_type": "markdown",
   "metadata": {},
   "source": [
    "# Pythonic Invisible Cloak"
   ]
  },
  {
   "cell_type": "code",
   "execution_count": 1,
   "metadata": {},
   "outputs": [],
   "source": [
    "import numpy as np\n",
    "import cv2\n",
    "import time\n",
    "import keyboard"
   ]
  },
  {
   "cell_type": "code",
   "execution_count": 2,
   "metadata": {},
   "outputs": [],
   "source": [
    "# Are you ready to watch Harry Potter's pythonic invisible cloak?....just Check this out..."
   ]
  },
  {
   "cell_type": "code",
   "execution_count": 15,
   "metadata": {},
   "outputs": [],
   "source": [
    "cap=cv2.VideoCapture(0)\n",
    "time.sleep(2)\n",
    "for i in range(30):\n",
    "    ret,background=cap.read()\n",
    "    if ret==False:\n",
    "        continue\n",
    "while(cap.isOpened()):\n",
    "    ret,img=cap.read()\n",
    "    if ret==False:\n",
    "        break\n",
    "    hsv=cv2.cvtColor(img,cv2.COLOR_BGR2HSV)\n",
    "    \n",
    "    lower_red=np.array([0,120,70])\n",
    "    higher_red=np.array([10,255,255])\n",
    "    mask1=cv2.inRange(hsv,lower_red,higher_red)\n",
    "    \n",
    "    lower_red=np.array([170,120,70])\n",
    "    higher_red=np.array([180,255,255])\n",
    "    mask2=cv2.inRange(hsv,lower_red,higher_red)\n",
    "    \n",
    "    mask1=mask1+mask2\n",
    "    \n",
    "    mask1=cv2.morphologyEx(mask1,cv2.MORPH_OPEN,np.ones((3,3),np.uint8),iterations=2)\n",
    "    mask1=cv2.morphologyEx(mask1,cv2.MORPH_DILATE,np.ones((3,3),np.uint8),iterations=1)\n",
    "    \n",
    "    mask2=cv2.bitwise_not(mask1)\n",
    "    \n",
    "    color_segmented=cv2.bitwise_and(background,background,mask=mask1)\n",
    "    cloak_substitute=cv2.bitwise_and(img,img,mask=mask2)\n",
    "    final_output=cv2.addWeighted(color_segmented,1,cloak_substitute,1,0)\n",
    "    \n",
    "    cv2.imshow('Pythonic_magic!',final_output)\n",
    "    k=cv2.waitKey(1)\n",
    "    if k==ord('q'):\n",
    "        break\n",
    "    if keyboard.is_pressed('q'):\n",
    "        break\n",
    "    \n",
    "cap.release\n",
    "cv2.destroyAllWindows()"
   ]
  },
  {
   "cell_type": "code",
   "execution_count": 16,
   "metadata": {},
   "outputs": [],
   "source": [
    "cap.release()\n",
    "cv2.destroyAllWindows()"
   ]
  },
  {
   "cell_type": "code",
   "execution_count": null,
   "metadata": {},
   "outputs": [],
   "source": []
  },
  {
   "cell_type": "code",
   "execution_count": null,
   "metadata": {},
   "outputs": [],
   "source": []
  }
 ],
 "metadata": {
  "kernelspec": {
   "display_name": "Python 3",
   "language": "python",
   "name": "python3"
  },
  "language_info": {
   "codemirror_mode": {
    "name": "ipython",
    "version": 3
   },
   "file_extension": ".py",
   "mimetype": "text/x-python",
   "name": "python",
   "nbconvert_exporter": "python",
   "pygments_lexer": "ipython3",
   "version": "3.7.6"
  }
 },
 "nbformat": 4,
 "nbformat_minor": 4
}
